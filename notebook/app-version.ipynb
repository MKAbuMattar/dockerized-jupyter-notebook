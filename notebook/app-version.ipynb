{
 "cells": [
  {
   "cell_type": "code",
   "execution_count": 1,
   "id": "d067bae6-5540-4b6a-ac48-c8443e8e3f4b",
   "metadata": {},
   "outputs": [
    {
     "name": "stdout",
     "output_type": "stream",
     "text": [
      "git version 2.43.0\n"
     ]
    }
   ],
   "source": [
    "git --version"
   ]
  },
  {
   "cell_type": "code",
   "execution_count": 2,
   "id": "d902bf80-254a-44b8-ba74-19ebdacfd1b2",
   "metadata": {},
   "outputs": [
    {
     "name": "stdout",
     "output_type": "stream",
     "text": [
      "Python 3.12.3\n"
     ]
    }
   ],
   "source": [
    "python --version"
   ]
  },
  {
   "cell_type": "code",
   "execution_count": 3,
   "id": "59932d02-5fce-4712-bd71-3f5db12408fc",
   "metadata": {},
   "outputs": [
    {
     "name": "stdout",
     "output_type": "stream",
     "text": [
      "pip 24.2 from /usr/local/lib/python3.12/dist-packages/pip (python 3.12)\n"
     ]
    }
   ],
   "source": [
    "pip --version"
   ]
  },
  {
   "cell_type": "code",
   "execution_count": 4,
   "id": "59046c70-93cb-41de-bccf-7a7fdae40aae",
   "metadata": {},
   "outputs": [
    {
     "name": "stdout",
     "output_type": "stream",
     "text": [
      "v20.17.0\n"
     ]
    }
   ],
   "source": [
    "node --version"
   ]
  },
  {
   "cell_type": "code",
   "execution_count": 5,
   "id": "1e3a97c5-7ecc-4b3e-adf1-cf6b1f150b85",
   "metadata": {},
   "outputs": [
    {
     "name": "stdout",
     "output_type": "stream",
     "text": [
      "10.8.2\n",
      "\u001b[1G\u001b[0K\n"
     ]
    }
   ],
   "source": [
    "npm --version"
   ]
  },
  {
   "cell_type": "code",
   "execution_count": 6,
   "id": "36c0c01b-bbdf-4a3b-b975-014ee8237db1",
   "metadata": {},
   "outputs": [
    {
     "name": "stdout",
     "output_type": "stream",
     "text": [
      "aws-cli/2.17.37 Python/3.11.9 Linux/6.10.6-zen1-1-zen exe/x86_64.ubuntu.24\n"
     ]
    }
   ],
   "source": [
    "aws --version"
   ]
  },
  {
   "cell_type": "code",
   "execution_count": 7,
   "id": "207b110e-6358-4cdb-80df-4e634c2528a0",
   "metadata": {},
   "outputs": [
    {
     "name": "stdout",
     "output_type": "stream",
     "text": [
      "azure-cli                         2.63.0\n",
      "\n",
      "core                              2.63.0\n",
      "telemetry                          1.1.0\n",
      "\n",
      "Dependencies:\n",
      "msal                              1.30.0\n",
      "azure-mgmt-resource               23.1.1\n",
      "\n",
      "Python location '/opt/az/bin/python3'\n",
      "Extensions directory '/home/notebook/.azure/cliextensions'\n",
      "\n",
      "Python (Linux) 3.11.8 (main, Jul 31 2024, 03:40:14) [GCC 13.2.0]\n",
      "\n",
      "Legal docs and information: aka.ms/AzureCliLegal\n",
      "\n",
      "\n",
      "Your CLI is up-to-date.\n"
     ]
    }
   ],
   "source": [
    "az --version"
   ]
  },
  {
   "cell_type": "code",
   "execution_count": 8,
   "id": "923afe44-005b-494c-a2e8-39c74e945c74",
   "metadata": {},
   "outputs": [
    {
     "name": "stdout",
     "output_type": "stream",
     "text": [
      "Google Cloud SDK 489.0.0\n",
      "alpha 2024.08.16\n",
      "beta 2024.08.16\n",
      "bq 2.1.8\n",
      "bundled-python3-unix 3.11.9\n",
      "core 2024.08.16\n",
      "gcloud-crc32c 1.0.0\n",
      "gsutil 5.30\n"
     ]
    }
   ],
   "source": [
    "gcloud version"
   ]
  },
  {
   "cell_type": "code",
   "execution_count": 9,
   "id": "74007ed0-a9dd-41af-949e-9a5486034886",
   "metadata": {},
   "outputs": [
    {
     "name": "stdout",
     "output_type": "stream",
     "text": [
      "Docker version 27.1.2, build d01f264\n"
     ]
    }
   ],
   "source": [
    "docker --version"
   ]
  },
  {
   "cell_type": "code",
   "execution_count": 10,
   "id": "0dcb7397-16e3-42db-8395-99672a069101",
   "metadata": {},
   "outputs": [
    {
     "name": "stdout",
     "output_type": "stream",
     "text": [
      "Terraform v1.9.5\n",
      "on linux_amd64\n"
     ]
    }
   ],
   "source": [
    "terraform version"
   ]
  },
  {
   "cell_type": "code",
   "execution_count": 11,
   "id": "4e293840-087e-41ea-ba83-a1c913d2c4e6",
   "metadata": {
    "editable": true,
    "slideshow": {
     "slide_type": ""
    },
    "tags": []
   },
   "outputs": [
    {
     "name": "stdout",
     "output_type": "stream",
     "text": [
      "version.BuildInfo{Version:\"v3.15.4\", GitCommit:\"fa9efb07d9d8debbb4306d72af76a383895aa8c4\", GitTreeState:\"clean\", GoVersion:\"go1.22.6\"}\n"
     ]
    }
   ],
   "source": [
    "helm version"
   ]
  },
  {
   "cell_type": "code",
   "execution_count": 12,
   "id": "61f7ca44-54d4-4ad1-8fb4-a353c8757da2",
   "metadata": {},
   "outputs": [
    {
     "name": "stdout",
     "output_type": "stream",
     "text": [
      "Client Version: version.Info{Major:\"1\", Minor:\"20\", GitVersion:\"v1.20.0\", GitCommit:\"af46c47ce925f4c4ad5cc8d1fca46c7b77d13b38\", GitTreeState:\"clean\", BuildDate:\"2020-12-08T17:59:43Z\", GoVersion:\"go1.15.5\", Compiler:\"gc\", Platform:\"linux/amd64\"}\n"
     ]
    }
   ],
   "source": [
    "kubectl version --client"
   ]
  },
  {
   "cell_type": "code",
   "execution_count": 13,
   "id": "d5f0bfc4-b8a5-4065-ba92-98de6d598b4c",
   "metadata": {},
   "outputs": [
    {
     "name": "stdout",
     "output_type": "stream",
     "text": [
      "ansible [core 2.16.10]\n",
      "  config file = /etc/ansible/ansible.cfg\n",
      "  configured module search path = ['/home/notebook/.ansible/plugins/modules', '/usr/share/ansible/plugins/modules']\n",
      "  ansible python module location = /usr/lib/python3/dist-packages/ansible\n",
      "  ansible collection location = /home/notebook/.ansible/collections:/usr/share/ansible/collections\n",
      "  executable location = /usr/bin/ansible\n",
      "  python version = 3.12.3 (main, Jul 31 2024, 17:43:48) [GCC 13.2.0] (/usr/bin/python3)\n",
      "  jinja version = 3.1.4\n",
      "  libyaml = True\n"
     ]
    }
   ],
   "source": [
    "ansible --version"
   ]
  }
 ],
 "metadata": {
  "kernelspec": {
   "display_name": "Bash",
   "language": "bash",
   "name": "bash"
  },
  "language_info": {
   "codemirror_mode": "shell",
   "file_extension": ".sh",
   "mimetype": "text/x-sh",
   "name": "bash"
  }
 },
 "nbformat": 4,
 "nbformat_minor": 5
}
