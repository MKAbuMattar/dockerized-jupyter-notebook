{
 "cells": [
  {
   "cell_type": "code",
   "execution_count": 1,
   "id": "d067bae6-5540-4b6a-ac48-c8443e8e3f4b",
   "metadata": {},
   "outputs": [
    {
     "name": "stdout",
     "output_type": "stream",
     "text": [
      "git version 2.34.1\n"
     ]
    }
   ],
   "source": [
    "git --version"
   ]
  },
  {
   "cell_type": "code",
   "execution_count": 2,
   "id": "d902bf80-254a-44b8-ba74-19ebdacfd1b2",
   "metadata": {},
   "outputs": [
    {
     "name": "stdout",
     "output_type": "stream",
     "text": [
      "Python 3.10.6\n"
     ]
    }
   ],
   "source": [
    "python --version"
   ]
  },
  {
   "cell_type": "code",
   "execution_count": 3,
   "id": "59932d02-5fce-4712-bd71-3f5db12408fc",
   "metadata": {},
   "outputs": [
    {
     "name": "stdout",
     "output_type": "stream",
     "text": [
      "pip 23.1.2 from /usr/local/lib/python3.10/dist-packages/pip (python 3.10)\n"
     ]
    }
   ],
   "source": [
    "pip --version"
   ]
  },
  {
   "cell_type": "code",
   "execution_count": 4,
   "id": "59046c70-93cb-41de-bccf-7a7fdae40aae",
   "metadata": {},
   "outputs": [
    {
     "name": "stdout",
     "output_type": "stream",
     "text": [
      "v18.16.1\n"
     ]
    }
   ],
   "source": [
    "node --version"
   ]
  },
  {
   "cell_type": "code",
   "execution_count": 5,
   "id": "1e3a97c5-7ecc-4b3e-adf1-cf6b1f150b85",
   "metadata": {},
   "outputs": [
    {
     "name": "stdout",
     "output_type": "stream",
     "text": [
      "9.5.1\n"
     ]
    }
   ],
   "source": [
    "npm --version"
   ]
  },
  {
   "cell_type": "code",
   "execution_count": 6,
   "id": "36c0c01b-bbdf-4a3b-b975-014ee8237db1",
   "metadata": {},
   "outputs": [
    {
     "name": "stdout",
     "output_type": "stream",
     "text": [
      "aws-cli/2.12.7 Python/3.11.4 Linux/6.4.1-zen2-1-zen exe/x86_64.ubuntu.22 prompt/off\n"
     ]
    }
   ],
   "source": [
    "aws --version"
   ]
  },
  {
   "cell_type": "code",
   "execution_count": 7,
   "id": "207b110e-6358-4cdb-80df-4e634c2528a0",
   "metadata": {},
   "outputs": [
    {
     "name": "stdout",
     "output_type": "stream",
     "text": [
      "azure-cli                         2.50.0\n",
      "\n",
      "core                              2.50.0\n",
      "telemetry                          1.0.8\n",
      "\n",
      "Dependencies:\n",
      "msal                              1.22.0\n",
      "azure-mgmt-resource             23.1.0b2\n",
      "\n",
      "Python location '/opt/az/bin/python3'\n",
      "Extensions directory '/home/notebook/.azure/cliextensions'\n",
      "\n",
      "Python (Linux) 3.10.10 (main, Jun 29 2023, 11:09:14) [GCC 11.3.0]\n",
      "\n",
      "Legal docs and information: aka.ms/AzureCliLegal\n",
      "\n",
      "\n",
      "Your CLI is up-to-date.\n"
     ]
    }
   ],
   "source": [
    "az --version"
   ]
  },
  {
   "cell_type": "code",
   "execution_count": 8,
   "id": "923afe44-005b-494c-a2e8-39c74e945c74",
   "metadata": {},
   "outputs": [
    {
     "name": "stdout",
     "output_type": "stream",
     "text": [
      "Google Cloud SDK 437.0.1\n",
      "alpha 2023.06.30\n",
      "app-engine-python 1.9.105\n",
      "beta 2023.06.30\n",
      "bq 2.0.93\n",
      "bundled-python3-unix 3.9.16\n",
      "core 2023.06.30\n",
      "gcloud-crc32c 1.0.0\n",
      "gsutil 5.24\n"
     ]
    }
   ],
   "source": [
    "gcloud version"
   ]
  },
  {
   "cell_type": "code",
   "execution_count": 11,
   "id": "74007ed0-a9dd-41af-949e-9a5486034886",
   "metadata": {},
   "outputs": [
    {
     "name": "stdout",
     "output_type": "stream",
     "text": [
      "Docker version 24.0.3, build 3713ee1\n"
     ]
    }
   ],
   "source": [
    "docker --version"
   ]
  },
  {
   "cell_type": "code",
   "execution_count": 9,
   "id": "0dcb7397-16e3-42db-8395-99672a069101",
   "metadata": {},
   "outputs": [
    {
     "name": "stdout",
     "output_type": "stream",
     "text": [
      "Terraform v1.5.2\n",
      "on linux_amd64\n"
     ]
    }
   ],
   "source": [
    "terraform version"
   ]
  },
  {
   "cell_type": "code",
   "execution_count": 10,
   "id": "4e293840-087e-41ea-ba83-a1c913d2c4e6",
   "metadata": {
    "editable": true,
    "slideshow": {
     "slide_type": ""
    },
    "tags": []
   },
   "outputs": [
    {
     "name": "stdout",
     "output_type": "stream",
     "text": [
      "version.BuildInfo{Version:\"v3.12.1\", GitCommit:\"f32a527a060157990e2aa86bf45010dfb3cc8b8d\", GitTreeState:\"clean\", GoVersion:\"go1.20.4\"}\n"
     ]
    }
   ],
   "source": [
    "helm version"
   ]
  }
 ],
 "metadata": {
  "kernelspec": {
   "display_name": "Bash",
   "language": "bash",
   "name": "bash"
  },
  "language_info": {
   "codemirror_mode": "shell",
   "file_extension": ".sh",
   "mimetype": "text/x-sh",
   "name": "bash"
  }
 },
 "nbformat": 4,
 "nbformat_minor": 5
}
